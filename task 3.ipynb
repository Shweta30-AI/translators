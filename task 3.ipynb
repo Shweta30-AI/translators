{
 "cells": [
  {
   "cell_type": "code",
   "execution_count": 12,
   "id": "0876ec79",
   "metadata": {},
   "outputs": [
    {
     "name": "stdout",
     "output_type": "stream",
     "text": [
      "Collecting SentencePiece\n",
      "  Downloading sentencepiece-0.2.0-cp39-cp39-win_amd64.whl (991 kB)\n",
      "Installing collected packages: SentencePiece\n",
      "Successfully installed SentencePiece-0.2.0\n",
      "Note: you may need to restart the kernel to use updated packages.\n"
     ]
    },
    {
     "name": "stderr",
     "output_type": "stream",
     "text": [
      "WARNING: Ignoring invalid distribution - (c:\\users\\shweta\\anaconda3\\lib\\site-packages)\n",
      "WARNING: Ignoring invalid distribution -ensorflow-intel (c:\\users\\shweta\\anaconda3\\lib\\site-packages)\n",
      "WARNING: Ignoring invalid distribution - (c:\\users\\shweta\\anaconda3\\lib\\site-packages)\n",
      "WARNING: Ignoring invalid distribution -ensorflow-intel (c:\\users\\shweta\\anaconda3\\lib\\site-packages)\n",
      "WARNING: Ignoring invalid distribution - (c:\\users\\shweta\\anaconda3\\lib\\site-packages)\n",
      "WARNING: Ignoring invalid distribution -ensorflow-intel (c:\\users\\shweta\\anaconda3\\lib\\site-packages)\n",
      "WARNING: Ignoring invalid distribution - (c:\\users\\shweta\\anaconda3\\lib\\site-packages)\n",
      "WARNING: Ignoring invalid distribution -ensorflow-intel (c:\\users\\shweta\\anaconda3\\lib\\site-packages)\n",
      "WARNING: Ignoring invalid distribution - (c:\\users\\shweta\\anaconda3\\lib\\site-packages)\n",
      "WARNING: Ignoring invalid distribution -ensorflow-intel (c:\\users\\shweta\\anaconda3\\lib\\site-packages)\n",
      "WARNING: Ignoring invalid distribution - (c:\\users\\shweta\\anaconda3\\lib\\site-packages)\n",
      "WARNING: Ignoring invalid distribution -ensorflow-intel (c:\\users\\shweta\\anaconda3\\lib\\site-packages)\n",
      "WARNING: Ignoring invalid distribution - (c:\\users\\shweta\\anaconda3\\lib\\site-packages)\n",
      "WARNING: Ignoring invalid distribution -ensorflow-intel (c:\\users\\shweta\\anaconda3\\lib\\site-packages)\n"
     ]
    }
   ],
   "source": [
    "pip install SentencePiece"
   ]
  },
  {
   "cell_type": "code",
   "execution_count": 6,
   "id": "31061bbe",
   "metadata": {},
   "outputs": [
    {
     "name": "stdout",
     "output_type": "stream",
     "text": [
      "Note: you may need to restart the kernel to use updated packages.\n"
     ]
    },
    {
     "name": "stderr",
     "output_type": "stream",
     "text": [
      "WARNING: Ignoring invalid distribution - (c:\\users\\shweta\\anaconda3\\lib\\site-packages)\n",
      "WARNING: Ignoring invalid distribution -ensorflow-intel (c:\\users\\shweta\\anaconda3\\lib\\site-packages)\n",
      "WARNING: Ignoring invalid distribution - (c:\\users\\shweta\\anaconda3\\lib\\site-packages)\n",
      "WARNING: Ignoring invalid distribution -ensorflow-intel (c:\\users\\shweta\\anaconda3\\lib\\site-packages)\n",
      "ERROR: Could not find a version that satisfies the requirement MarianTokenizer (from versions: none)\n",
      "ERROR: No matching distribution found for MarianTokenizer\n",
      "WARNING: Ignoring invalid distribution - (c:\\users\\shweta\\anaconda3\\lib\\site-packages)\n",
      "WARNING: Ignoring invalid distribution -ensorflow-intel (c:\\users\\shweta\\anaconda3\\lib\\site-packages)\n",
      "WARNING: Ignoring invalid distribution - (c:\\users\\shweta\\anaconda3\\lib\\site-packages)\n",
      "WARNING: Ignoring invalid distribution -ensorflow-intel (c:\\users\\shweta\\anaconda3\\lib\\site-packages)\n",
      "WARNING: Ignoring invalid distribution - (c:\\users\\shweta\\anaconda3\\lib\\site-packages)\n",
      "WARNING: Ignoring invalid distribution -ensorflow-intel (c:\\users\\shweta\\anaconda3\\lib\\site-packages)\n"
     ]
    }
   ],
   "source": [
    "pip install MarianTokenizer"
   ]
  },
  {
   "cell_type": "code",
   "execution_count": 2,
   "id": "dadc4592",
   "metadata": {},
   "outputs": [
    {
     "name": "stdout",
     "output_type": "stream",
     "text": [
      "Requirement already satisfied: transformers in c:\\users\\shweta\\anaconda3\\lib\\site-packages (4.51.3)\n",
      "Requirement already satisfied: torch in c:\\users\\shweta\\anaconda3\\lib\\site-packages (2.7.0)\n",
      "Note: you may need to restart the kernel to use updated packages.\n"
     ]
    },
    {
     "name": "stderr",
     "output_type": "stream",
     "text": [
      "WARNING: Ignoring invalid distribution - (c:\\users\\shweta\\anaconda3\\lib\\site-packages)\n",
      "WARNING: Ignoring invalid distribution -ensorflow-intel (c:\\users\\shweta\\anaconda3\\lib\\site-packages)\n",
      "WARNING: Ignoring invalid distribution - (c:\\users\\shweta\\anaconda3\\lib\\site-packages)\n",
      "WARNING: Ignoring invalid distribution -ensorflow-intel (c:\\users\\shweta\\anaconda3\\lib\\site-packages)\n",
      "ERROR: Could not find a version that satisfies the requirement tkinter (from versions: none)\n",
      "ERROR: No matching distribution found for tkinter\n",
      "WARNING: Ignoring invalid distribution - (c:\\users\\shweta\\anaconda3\\lib\\site-packages)\n",
      "WARNING: Ignoring invalid distribution -ensorflow-intel (c:\\users\\shweta\\anaconda3\\lib\\site-packages)\n",
      "WARNING: Ignoring invalid distribution - (c:\\users\\shweta\\anaconda3\\lib\\site-packages)\n",
      "WARNING: Ignoring invalid distribution -ensorflow-intel (c:\\users\\shweta\\anaconda3\\lib\\site-packages)\n",
      "WARNING: Ignoring invalid distribution - (c:\\users\\shweta\\anaconda3\\lib\\site-packages)\n",
      "WARNING: Ignoring invalid distribution -ensorflow-intel (c:\\users\\shweta\\anaconda3\\lib\\site-packages)\n"
     ]
    }
   ],
   "source": [
    "pip install transformers torch tkinter\n"
   ]
  },
  {
   "cell_type": "code",
   "execution_count": null,
   "id": "38eb5266",
   "metadata": {},
   "outputs": [
    {
     "name": "stderr",
     "output_type": "stream",
     "text": [
      "c:\\Users\\Shweta\\anaconda3\\lib\\site-packages\\transformers\\models\\marian\\tokenization_marian.py:175: UserWarning: Recommended: pip install sacremoses.\n",
      "  warnings.warn(\"Recommended: pip install sacremoses.\")\n",
      "c:\\Users\\Shweta\\anaconda3\\lib\\site-packages\\transformers\\tokenization_utils_base.py:4106: FutureWarning: \n",
      "`prepare_seq2seq_batch` is deprecated and will be removed in version 5 of HuggingFace Transformers. Use the regular\n",
      "`__call__` method to prepare your inputs and targets.\n",
      "\n",
      "Here is a short example:\n",
      "\n",
      "model_inputs = tokenizer(src_texts, text_target=tgt_texts, ...)\n",
      "\n",
      "If you either need to use different keyword arguments for the source and target texts, you should do two calls like\n",
      "this:\n",
      "\n",
      "model_inputs = tokenizer(src_texts, ...)\n",
      "labels = tokenizer(text_target=tgt_texts, ...)\n",
      "model_inputs[\"labels\"] = labels[\"input_ids\"]\n",
      "\n",
      "See the documentation of your specific tokenizer for more details on the specific arguments to the tokenizer of choice.\n",
      "For a more complete example, see the implementation of `prepare_seq2seq_batch`.\n",
      "\n",
      "  warnings.warn(formatted_warning, FutureWarning)\n"
     ]
    }
   ],
   "source": [
    "import tkinter as tk\n",
    "from tkinter import messagebox\n",
    "from transformers import MarianMTModel, MarianTokenizer\n",
    "import torch\n",
    "\n",
    "# Load pre-trained models and tokenizers\n",
    "en_fr_model_name = 'Helsinki-NLP/opus-mt-en-fr'\n",
    "en_hi_model_name = 'Helsinki-NLP/opus-mt-en-hi'\n",
    "\n",
    "en_fr_tokenizer = MarianTokenizer.from_pretrained(en_fr_model_name)\n",
    "en_fr_model = MarianMTModel.from_pretrained(en_fr_model_name)\n",
    "\n",
    "en_hi_tokenizer = MarianTokenizer.from_pretrained(en_hi_model_name)\n",
    "en_hi_model = MarianMTModel.from_pretrained(en_hi_model_name)\n",
    "\n",
    "# Function to translate text\n",
    "def translate_text():\n",
    "    input_text = input_entry.get(\"1.0\", tk.END).strip()\n",
    "    if len(input_text.replace(\" \", \"\")) < 10:\n",
    "        messagebox.showinfo(\"Info\", \"Please upload again.\")\n",
    "        return\n",
    "\n",
    "    # Translate to French\n",
    "    fr_tokens = en_fr_tokenizer.prepare_seq2seq_batch([input_text], return_tensors=\"pt\")\n",
    "    with torch.no_grad():\n",
    "        fr_translation = en_fr_model.generate(**fr_tokens)\n",
    "    fr_text = en_fr_tokenizer.decode(fr_translation[0], skip_special_tokens=True)\n",
    "\n",
    "    # Translate to Hindi\n",
    "    hi_tokens = en_hi_tokenizer.prepare_seq2seq_batch([input_text], return_tensors=\"pt\")\n",
    "    with torch.no_grad():\n",
    "        hi_translation = en_hi_model.generate(**hi_tokens)\n",
    "    hi_text = en_hi_tokenizer.decode(hi_translation[0], skip_special_tokens=True)\n",
    "\n",
    "    # Display translations\n",
    "    french_output.delete(\"1.0\", tk.END)\n",
    "    french_output.insert(tk.END, fr_text)\n",
    "\n",
    "    hindi_output.delete(\"1.0\", tk.END)\n",
    "    hindi_output.insert(tk.END, hi_text)\n",
    "\n",
    "# Set up GUI\n",
    "root = tk.Tk()\n",
    "root.title(\"Dual Language Translator\")\n",
    "root.geometry(\"600x400\")\n",
    "\n",
    "# Input Text\n",
    "tk.Label(root, text=\"Enter English Text:\").pack()\n",
    "input_entry = tk.Text(root, height=5, width=70)\n",
    "input_entry.pack()\n",
    "\n",
    "# Translate Button\n",
    "translate_button = tk.Button(root, text=\"Translate\", command=translate_text)\n",
    "translate_button.pack(pady=10)\n",
    "\n",
    "# French Output\n",
    "tk.Label(root, text=\"French Translation:\").pack()\n",
    "french_output = tk.Text(root, height=5, width=70)\n",
    "french_output.pack()\n",
    "\n",
    "# Hindi Output\n",
    "tk.Label(root, text=\"Hindi Translation:\").pack()\n",
    "hindi_output = tk.Text(root, height=5, width=70)\n",
    "hindi_output.pack()\n",
    "\n",
    "root.mainloop()\n"
   ]
  }
 ],
 "metadata": {
  "kernelspec": {
   "display_name": "base",
   "language": "python",
   "name": "python3"
  },
  "language_info": {
   "codemirror_mode": {
    "name": "ipython",
    "version": 3
   },
   "file_extension": ".py",
   "mimetype": "text/x-python",
   "name": "python",
   "nbconvert_exporter": "python",
   "pygments_lexer": "ipython3",
   "version": "3.9.7"
  }
 },
 "nbformat": 4,
 "nbformat_minor": 5
}
